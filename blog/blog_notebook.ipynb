{
 "cells": [
  {
   "cell_type": "markdown",
   "metadata": {},
   "source": [
    "**Python Productivity: Inspecting and Understanding New Objects**"
   ]
  },
  {
   "cell_type": "markdown",
   "metadata": {},
   "source": [
    "As a machine learning engineer … Working with a new Python object can be challenging because it's hard to find the attributes and methods you need, and the documentation can be unavailable, incorrect, daunting, and time-consuming to look up. This post discusses some quick ways to better understand new objects with Python's built-in functions, PyCharm's tools, and peep dis, a CLI tool for inspecting objects.\n",
    "We'll start with a simple toy Rectangle class, then move on to more complex data science related objects like numpy arrays, pandas dataframes, sklearn models, and keras models. If you'd prefer to jump straight to this portion, skip to the \"CLI Tool: peep dis\" section."
   ]
  },
  {
   "cell_type": "code",
   "execution_count": 65,
   "metadata": {
    "collapsed": true
   },
   "outputs": [],
   "source": [
    "class Rectangle:\n",
    "    def __init__(self, a: float, b: float):\n",
    "        self.a = a\n",
    "        self.b = b\n",
    "\n",
    "    def area(self) -> float:\n",
    "        return self.a * self.b\n",
    "\n",
    "    def scale(self, factor: float, ratio=1.0):\n",
    "        \"\"\" scale the side lengths by `factor` \"\"\"\n",
    "        self.a = factor * self.a\n",
    "        self.b = factor * self.b * ratio\n",
    "\n",
    "    def take_half(self):\n",
    "        \"\"\" cut in half and return the \"other half\" \"\"\"\n",
    "        self.a /= 2\n",
    "        return Rectangle(self.a, self.b)\n",
    "\n",
    "    def __str__(self):\n",
    "        return self.__class__.__name__ + str({'a': self.a, 'b': self.b})"
   ]
  },
  {
   "cell_type": "markdown",
   "metadata": {},
   "source": [
    "**Built-in Functions**"
   ]
  },
  {
   "cell_type": "markdown",
   "metadata": {},
   "source": [
    "The dir function is a simple built-in that lists all attributes and methods of an object unless __dir__ has been overloaded. This is what text editors and IDEs use for autocomplete."
   ]
  },
  {
   "cell_type": "code",
   "execution_count": 66,
   "metadata": {},
   "outputs": [
    {
     "data": {
      "text/plain": [
       "['__class__',\n",
       " '__delattr__',\n",
       " '__dict__',\n",
       " '__dir__',\n",
       " '__doc__',\n",
       " '__eq__',\n",
       " '__format__',\n",
       " '__ge__',\n",
       " '__getattribute__',\n",
       " '__gt__',\n",
       " '__hash__',\n",
       " '__init__',\n",
       " '__init_subclass__',\n",
       " '__le__',\n",
       " '__lt__',\n",
       " '__module__',\n",
       " '__ne__',\n",
       " '__new__',\n",
       " '__reduce__',\n",
       " '__reduce_ex__',\n",
       " '__repr__',\n",
       " '__setattr__',\n",
       " '__sizeof__',\n",
       " '__str__',\n",
       " '__subclasshook__',\n",
       " '__weakref__',\n",
       " 'a',\n",
       " 'area',\n",
       " 'b',\n",
       " 'scale',\n",
       " 'take_half']"
      ]
     },
     "execution_count": 66,
     "metadata": {},
     "output_type": "execute_result"
    }
   ],
   "source": [
    ">>> rect = Rectangle(3., 4.)\n",
    ">>> dir(rect)\n",
    "['__class__', '__delattr__', '__dict__', '__dir__', '__doc__', '__eq__', '__format__', '__ge__', '__getattribute__', '__gt__', '__hash__', '__init__', '__init_subclass__', '__le__', '__lt__', '__module__', '__ne__', '__new__', '__reduce__', '__reduce_ex__', '__repr__', '__setattr__', '__sizeof__', '__str__', '__subclasshook__', '__weakref__', 'a', 'area', 'b', 'scale', 'take_half']"
   ]
  },
  {
   "cell_type": "markdown",
   "metadata": {},
   "source": [
    "The output is a list of strings representing the attributes and methods of the object, mostly consisting of builtins. For most users, these aren't particularly useful and just add clutter."
   ]
  },
  {
   "cell_type": "markdown",
   "metadata": {},
   "source": [
    "**Filtering Out Builtins**"
   ]
  },
  {
   "cell_type": "markdown",
   "metadata": {
    "collapsed": true
   },
   "source": [
    "Depending on our definition of builtins, we can use either string filtering or type filtering to remove these."
   ]
  },
  {
   "cell_type": "markdown",
   "metadata": {},
   "source": [
    "String Filtering:"
   ]
  },
  {
   "cell_type": "code",
   "execution_count": 67,
   "metadata": {
    "collapsed": true
   },
   "outputs": [],
   "source": [
    "def magic_filter(obj):\n",
    "    is_magic = lambda x: (x.startswith('__') and x.endswith('__'))\n",
    "    return [x for x in dir(obj) if not is_magic(x)]"
   ]
  },
  {
   "cell_type": "code",
   "execution_count": 68,
   "metadata": {},
   "outputs": [
    {
     "data": {
      "text/plain": [
       "['a', 'area', 'b', 'scale', 'take_half']"
      ]
     },
     "execution_count": 68,
     "metadata": {},
     "output_type": "execute_result"
    }
   ],
   "source": [
    ">>> magic_filter(rect)"
   ]
  },
  {
   "cell_type": "markdown",
   "metadata": {},
   "source": [
    "Type Filtering:"
   ]
  },
  {
   "cell_type": "code",
   "execution_count": 69,
   "metadata": {
    "collapsed": true
   },
   "outputs": [],
   "source": [
    "from types import BuiltinMethodType\n",
    "\n",
    "def builtin_type_filter(obj):\n",
    "    is_builtin = lambda x: isinstance(getattr(obj, x), BuiltinMethodType)\n",
    "    return [x for x in dir(obj) if not is_builtin(x)]"
   ]
  },
  {
   "cell_type": "code",
   "execution_count": 70,
   "metadata": {},
   "outputs": [
    {
     "data": {
      "text/plain": [
       "['__class__',\n",
       " '__delattr__',\n",
       " '__dict__',\n",
       " '__doc__',\n",
       " '__eq__',\n",
       " '__ge__',\n",
       " '__getattribute__',\n",
       " '__gt__',\n",
       " '__hash__',\n",
       " '__init__',\n",
       " '__le__',\n",
       " '__lt__',\n",
       " '__module__',\n",
       " '__ne__',\n",
       " '__repr__',\n",
       " '__setattr__',\n",
       " '__str__',\n",
       " '__weakref__',\n",
       " 'a',\n",
       " 'area',\n",
       " 'b',\n",
       " 'scale',\n",
       " 'take_half']"
      ]
     },
     "execution_count": 70,
     "metadata": {},
     "output_type": "execute_result"
    }
   ],
   "source": [
    ">>> builtin_type_filter(rect)"
   ]
  },
  {
   "cell_type": "code",
   "execution_count": 71,
   "metadata": {
    "collapsed": true
   },
   "outputs": [],
   "source": [
    ">>> dir_filtered = magic_filter(rect)"
   ]
  },
  {
   "cell_type": "markdown",
   "metadata": {},
   "source": [
    "**Separating Methods from Attributes**"
   ]
  },
  {
   "cell_type": "markdown",
   "metadata": {},
   "source": [
    "Of the items returned after filtering, we still don't know which are attributes and which are methods. We can use the built-in callable function to filter them."
   ]
  },
  {
   "cell_type": "markdown",
   "metadata": {},
   "source": [
    "Attributes:"
   ]
  },
  {
   "cell_type": "code",
   "execution_count": 72,
   "metadata": {
    "collapsed": true
   },
   "outputs": [],
   "source": [
    "def filter_attrs(obj, name_list):\n",
    "    return [x for x in name_list if not callable(getattr(obj, x))]"
   ]
  },
  {
   "cell_type": "code",
   "execution_count": 73,
   "metadata": {},
   "outputs": [
    {
     "data": {
      "text/plain": [
       "['a', 'b']"
      ]
     },
     "execution_count": 73,
     "metadata": {},
     "output_type": "execute_result"
    }
   ],
   "source": [
    ">>> attrs = filter_attrs(rect, dir_filtered)\n",
    ">>> attrs"
   ]
  },
  {
   "cell_type": "markdown",
   "metadata": {},
   "source": [
    "Methods:"
   ]
  },
  {
   "cell_type": "code",
   "execution_count": 74,
   "metadata": {
    "collapsed": true
   },
   "outputs": [],
   "source": [
    "def filter_methods(obj, name_list):\n",
    "    return [x for x in name_list if callable(getattr(obj, x))]"
   ]
  },
  {
   "cell_type": "code",
   "execution_count": 75,
   "metadata": {},
   "outputs": [
    {
     "data": {
      "text/plain": [
       "['area', 'scale', 'take_half']"
      ]
     },
     "execution_count": 75,
     "metadata": {},
     "output_type": "execute_result"
    }
   ],
   "source": [
    ">>> methods = filter_methods(rect, dir_filtered)\n",
    ">>> methods"
   ]
  },
  {
   "cell_type": "markdown",
   "metadata": {},
   "source": [
    "To see the values of the attributes:"
   ]
  },
  {
   "cell_type": "code",
   "execution_count": 76,
   "metadata": {},
   "outputs": [
    {
     "data": {
      "text/plain": [
       "{'a': 3.0, 'b': 4.0}"
      ]
     },
     "execution_count": 76,
     "metadata": {},
     "output_type": "execute_result"
    }
   ],
   "source": [
    ">>> attr_outputs = {x: getattr(rect, x) for x in attrs}\n",
    ">>> attr_outputs"
   ]
  },
  {
   "cell_type": "markdown",
   "metadata": {},
   "source": [
    "**Calling Methods**"
   ]
  },
  {
   "cell_type": "markdown",
   "metadata": {},
   "source": [
    "For the methods, it's a bit more complicated. One risk with indiscriminately calling methods is that they could modify the state of the object, like Rectangle.take_half. This can be avoided in most cases by making a copy.deepcopy before each method call, although this can be computationally intensive depending on the object. Note that methods which modify class variables, global variables, or interact with their external environment may still have some effect."
   ]
  },
  {
   "cell_type": "code",
   "execution_count": 77,
   "metadata": {
    "collapsed": true
   },
   "outputs": [],
   "source": [
    "from copy import deepcopy\n",
    "\n",
    "def get_callable(obj, name: str):\n",
    "    return getattr(deepcopy(obj), name)"
   ]
  },
  {
   "cell_type": "markdown",
   "metadata": {},
   "source": [
    "Methods that require positional requirements provide an additional challenge, like Rectangle.scale. We can get the outputs of the methods that don't require positionals by using the \"leap before you look policy\", or by using gestfullargspec from the insepct built-in module to determine which objects don't require positional arguments and evaluate only those."
   ]
  },
  {
   "cell_type": "markdown",
   "metadata": {},
   "source": [
    "**Calling Methods Technique 1: Leap Before You Look**"
   ]
  },
  {
   "cell_type": "code",
   "execution_count": 78,
   "metadata": {
    "collapsed": true
   },
   "outputs": [],
   "source": [
    "def attempt_call(func):\n",
    "    try:\n",
    "        return str(func())\n",
    "    except:\n",
    "        return '(failed to evaluate method)'"
   ]
  },
  {
   "cell_type": "code",
   "execution_count": 79,
   "metadata": {},
   "outputs": [
    {
     "data": {
      "text/plain": [
       "{'area': '12.0',\n",
       " 'scale': '(failed to evaluate method)',\n",
       " 'take_half': \"Rectangle{'a': 1.5, 'b': 4.0}\"}"
      ]
     },
     "execution_count": 79,
     "metadata": {},
     "output_type": "execute_result"
    }
   ],
   "source": [
    ">>> outputs = {x: attempt_method_call(get_callable(rect, x)) for x in methods}\n",
    ">>> outputs"
   ]
  },
  {
   "cell_type": "markdown",
   "metadata": {},
   "source": [
    "As expected, area and take_half, which don't require positionals returned values, whereas scale, which requires positional arguments did not."
   ]
  },
  {
   "cell_type": "markdown",
   "metadata": {},
   "source": [
    "**Calling Methods Technique 2: Check for Positionals**"
   ]
  },
  {
   "cell_type": "markdown",
   "metadata": {},
   "source": [
    "First, let's introduce getfullargspec:"
   ]
  },
  {
   "cell_type": "code",
   "execution_count": 80,
   "metadata": {
    "collapsed": true
   },
   "outputs": [],
   "source": [
    "from inspect import getfullargspec"
   ]
  },
  {
   "cell_type": "code",
   "execution_count": 81,
   "metadata": {},
   "outputs": [
    {
     "data": {
      "text/plain": [
       "FullArgSpec(args=['self', 'factor', 'ratio'], varargs=None, varkw=None, defaults=(1.0,), kwonlyargs=[], kwonlydefaults=None, annotations={'factor': <class 'float'>})"
      ]
     },
     "execution_count": 81,
     "metadata": {},
     "output_type": "execute_result"
    }
   ],
   "source": [
    ">>> getfullargspec(rect.scale)"
   ]
  },
  {
   "cell_type": "markdown",
   "metadata": {},
   "source": [
    "It returns a FullArgSpec object. args contains the argument names; vargs and varkw contain the names of variable length arguments and keyword arguments, as specified by the * and ** operators, respectively; defaults contains the default values for keyword arguments; kwonlyargs lists names of keyword-only args; kwonlydefaults is a dictionary with keyword-only arg default values; and annotations is a dictionary specifying any type annotations.\n",
    "\n",
    "We can use this information to check if a method has positional arguments and evaluate it only if it doesn't. To start, we will attempt to get the fullargspec of the method, although not all callables are supported. Then we'll extract the args and use a utility function _remove_self to remove theself argument which is implicit to standard methods. Although it's not done here, we could also avoid calling class methods by checking for the cls argument. Finally, if all args have defaults, then there are no positionals and the method can be called."
   ]
  },
  {
   "cell_type": "code",
   "execution_count": 82,
   "metadata": {
    "collapsed": true
   },
   "outputs": [],
   "source": [
    "def call_if_no_positionals(func):\n",
    "    try:\n",
    "        spec = getfullargspec(func)\n",
    "    except TypeError:\n",
    "        return '(unsupported callable)'\n",
    "    args = spec.args\n",
    "    if 'self' in args:\n",
    "        args.remove('self')\n",
    "    n_defaults = len(spec.defaults) if spec.defaults else 0\n",
    "    if len(args) == n_defaults:\n",
    "        return str(func())\n",
    "    else:\n",
    "        return '(requires positional args)'\n",
    "\n",
    "def _remove_self(arg_list):\n",
    "    \"\"\" remove implicit `self` argument from list of arg names \"\"\"\n",
    "    if 'self' in arg_list:\n",
    "        arg_list.remove('self')"
   ]
  },
  {
   "cell_type": "code",
   "execution_count": 83,
   "metadata": {},
   "outputs": [
    {
     "data": {
      "text/plain": [
       "{'area': '12.0',\n",
       " 'scale': '(requires positional args)',\n",
       " 'take_half': \"Rectangle{'a': 1.5, 'b': 4.0}\"}"
      ]
     },
     "execution_count": 83,
     "metadata": {},
     "output_type": "execute_result"
    }
   ],
   "source": [
    ">>> outputs = {x: call_if_no_positionals(get_callable(rect, x)) for x in methods}\n",
    ">>> outputs"
   ]
  },
  {
   "cell_type": "markdown",
   "metadata": {},
   "source": [
    "**Inferring Argument Types**"
   ]
  },
  {
   "cell_type": "markdown",
   "metadata": {},
   "source": [
    "We can use the information we get from  can do this by defining infer_arg_types, which starts out similarly to the last function, then populates an OrderedDict with types inferred from any type annotations and default arguments."
   ]
  },
  {
   "cell_type": "code",
   "execution_count": 84,
   "metadata": {
    "collapsed": true
   },
   "outputs": [],
   "source": [
    "from inspect import getfullargspec\n",
    "from collections import OrderedDict\n",
    "\n",
    "def infer_arg_types(func):\n",
    "    try:\n",
    "        spec = getfullargspec(func)\n",
    "    except TypeError:\n",
    "        return '(unsupported callable)'\n",
    "    arg_types = OrderedDict()\n",
    "    args = spec.args\n",
    "    _remove_self(args)\n",
    "    # infer types from type hints\n",
    "    for arg in args:\n",
    "        type_ = spec.annotations.get(arg, None)\n",
    "        arg_types[arg] = type_.__name__ if type_ is not None else None\n",
    "    # infer types from default args\n",
    "    if spec.defaults:\n",
    "        for i, v in enumerate(spec.defaults):\n",
    "            arg_i = - len(spec.defaults) + i\n",
    "            arg = args[arg_i]\n",
    "            arg_types[arg] = type(v).__name__\n",
    "    if not arg_types:\n",
    "        return None\n",
    "    return arg_types"
   ]
  },
  {
   "cell_type": "code",
   "execution_count": 85,
   "metadata": {},
   "outputs": [
    {
     "data": {
      "text/plain": [
       "{'area': None,\n",
       " 'scale': OrderedDict([('factor', 'float'), ('ratio', 'float')]),\n",
       " 'take_half': None}"
      ]
     },
     "execution_count": 85,
     "metadata": {},
     "output_type": "execute_result"
    }
   ],
   "source": [
    ">>> method_arg_types = {x: infer_arg_types(getattr(rect, x)) for x in methods}\n",
    ">>> method_arg_types"
   ]
  },
  {
   "cell_type": "markdown",
   "metadata": {},
   "source": [
    "**Forging Arguments**"
   ]
  },
  {
   "cell_type": "markdown",
   "metadata": {},
   "source": [
    "If we want to see example outputs for methods that require positional arguments, we can attempt to use these inferred argument types to forge them by looking up sample values for each type. We can even attempt to forge collections if the content type is in the annotation (e.g. List[int])."
   ]
  },
  {
   "cell_type": "code",
   "execution_count": 86,
   "metadata": {
    "collapsed": true
   },
   "outputs": [],
   "source": [
    "_sample_args = {\n",
    "    'float': 1.5,\n",
    "    'int': 2,\n",
    "    'str': 'abc',\n",
    "    'typing.List[int]': [1, 2, 3],\n",
    "}"
   ]
  },
  {
   "cell_type": "markdown",
   "metadata": {},
   "source": [
    "We will define a ForgeError so that any errors caused by attempting to forge arguments can be handled specifically. This will allow us to attempt to forge arguments for a collection of methods even if some don't work."
   ]
  },
  {
   "cell_type": "code",
   "execution_count": 87,
   "metadata": {
    "collapsed": true
   },
   "outputs": [],
   "source": [
    "class ForgeError(ValueError):\n",
    "    pass"
   ]
  },
  {
   "cell_type": "markdown",
   "metadata": {},
   "source": [
    "The forging function will take a method and look up sample arguments from _sample_args by type from the infer_arg_types output, raising errors if any arguments lacked defaults and types couldn't be inferred, or if any types are presented that aren't in _sample_args."
   ]
  },
  {
   "cell_type": "code",
   "execution_count": 88,
   "metadata": {
    "collapsed": true
   },
   "outputs": [],
   "source": [
    "def forge_args(func, sample_dict=_sample_args):\n",
    "    arg_types = infer_arg_types(func)\n",
    "    # If no positional arguments\n",
    "    if not arg_types:\n",
    "        return {}\n",
    "    # If not all types could be inferred\n",
    "    if not all(arg_types.values()):\n",
    "        raise ForgeError(f'Some arguments have unknown types')\n",
    "\n",
    "    arg_dict = OrderedDict()\n",
    "    for i, (arg, type_) in enumerate(arg_types.items()):\n",
    "        # check for default values if keyword arg\n",
    "        defaults = getfullargspec(func).defaults\n",
    "        n_args_remaining = len(arg_types) - i\n",
    "        if len(defaults) >= n_args_remaining:\n",
    "            arg_dict[arg] = defaults[- n_args_remaining]\n",
    "        # if no defaults, attempt to forge from _sample_dict\n",
    "        elif type_ in _sample_args:\n",
    "            arg_dict[arg] = sample_dict[type_]\n",
    "        else:\n",
    "            raise ForgeError(\n",
    "                f'Unsupported argument type ({type_}) for argument: {arg}')\n",
    "    return arg_dict"
   ]
  },
  {
   "cell_type": "markdown",
   "metadata": {},
   "source": [
    "Since this is a somewhat complex function, we can set up a few test cases to make sure it works properly. (maybe just put a link to the code where it's tested and describe the test cases I'd use."
   ]
  },
  {
   "cell_type": "code",
   "execution_count": 89,
   "metadata": {
    "collapsed": true
   },
   "outputs": [],
   "source": [
    "def test_forge_unkown_types():\n",
    "    pass\n",
    "def test_forge_annotated():\n",
    "    pass\n",
    "def test_forge_no_args():\n",
    "    pass\n",
    "def test_forge_kwargs():\n",
    "    pass"
   ]
  },
  {
   "cell_type": "markdown",
   "metadata": {},
   "source": [
    "Next, we can define a function that takes an object and iterates over all of its methods and attempts to forge the arguments for each using the \"leap before you look\" approach and noting the reason for any failures."
   ]
  },
  {
   "cell_type": "code",
   "execution_count": 90,
   "metadata": {
    "collapsed": true
   },
   "outputs": [],
   "source": [
    "def forge_call_all(obj, sample_dict=_sample_args):\n",
    "    dir_filtered = magic_filter(obj)\n",
    "    method_names = filter_methods(obj, dir_filtered)\n",
    "    output_dict = {}\n",
    "    for name in method_names:\n",
    "        method = get_callable(obj, name)\n",
    "        try:\n",
    "            arg_dict = forge_args(method, sample_dict)\n",
    "            output_dict[name] = str(method(**arg_dict))\n",
    "        except ForgeError:\n",
    "            output_dict[name] = \"(Failed to forge args)\"\n",
    "        except Exception:\n",
    "            output_dict[name] = \"(Failed to run method with forged args)\"\n",
    "    return output_dict"
   ]
  },
  {
   "cell_type": "markdown",
   "metadata": {},
   "source": [
    "Let's give this a try on our Rectangle instance:"
   ]
  },
  {
   "cell_type": "code",
   "execution_count": 91,
   "metadata": {},
   "outputs": [
    {
     "data": {
      "text/plain": [
       "{'area': '12.0', 'scale': 'None', 'take_half': \"Rectangle{'a': 1.5, 'b': 4.0}\"}"
      ]
     },
     "execution_count": 91,
     "metadata": {},
     "output_type": "execute_result"
    }
   ],
   "source": [
    ">>> forged_outputs = forge_call_all(rect)\n",
    ">>> forged_outputs"
   ]
  },
  {
   "cell_type": "markdown",
   "metadata": {},
   "source": [
    "The difference between this result and the last result is subtle, but notice that scale now outputs 'None' rather than 'requires positional args'. That's because the method was called successfully with the forged arguments, but rather than returning anything, it modifies the state of rect by changing attributes a and b.  It would be nice to track these modifications so that we can understand what methods do even when they don't return anything."
   ]
  },
  {
   "cell_type": "markdown",
   "metadata": {},
   "source": [
    "**Tracking State Modification: Comparison Technique**"
   ]
  },
  {
   "cell_type": "markdown",
   "metadata": {},
   "source": [
    "In this toy example, scale modifies the dimensions, a and b of the Rectangle and conveniently returns the new values. In the real world, state modifying methods do not often do this, so it would be helpful to have another way to check whether calling a method changed the objects state. We can do this by saving a copy of all the objects' attributes before the method call, then comparing them to the attributes after. We can define a StateComparator object to allow us to save the current attributes using the `__dict__` attribute, then check for new additions, deletions, and modifications of attributes after the method call."
   ]
  },
  {
   "cell_type": "code",
   "execution_count": 92,
   "metadata": {
    "collapsed": true
   },
   "outputs": [],
   "source": [
    "class StateComparator:\n",
    "    def __init__(self, obj):\n",
    "        self.state = deepcopy(obj.__dict__)\n",
    "\n",
    "    def compare(self, other):\n",
    "        state_1 = self.state\n",
    "        state_2 = deepcopy(other.__dict__)\n",
    "        new_attrs = {k: v for k, v in state_2.items() if k not in state_1}\n",
    "        del_attrs = {k: v for k, v in state_1.items() if k not in state_2}\n",
    "        mod_attrs = {k: (v, state_2[k]) for k, v in state_1.items()\n",
    "                     if v != state_2[k]}\n",
    "        change_dict = {}\n",
    "        if new_attrs:\n",
    "            change_dict['new'] = new_attrs,\n",
    "        if del_attrs:\n",
    "            change_dict['deleted'] = del_attrs\n",
    "        if mod_attrs:\n",
    "            change_dict['modified'] = mod_attrs\n",
    "        return change_dict"
   ]
  },
  {
   "cell_type": "markdown",
   "metadata": {},
   "source": [
    "Using the forge_call_all method as a template, we can define a new method which includes state tracking and an option to turn argument forging on or off. The important changes are in bold italics."
   ]
  },
  {
   "cell_type": "code",
   "execution_count": 93,
   "metadata": {
    "collapsed": true
   },
   "outputs": [],
   "source": [
    "def call_all_tracked(obj, sample_dict=_sample_args, forge=True):\n",
    "    dir_filtered = magic_filter(obj)\n",
    "    method_names = filter_methods(obj, dir_filtered)\n",
    "    output_dict = {}\n",
    "    for name in method_names:\n",
    "        obj_2 = deepcopy(obj)\n",
    "        # store initial state\n",
    "        state = StateComparator(obj_2)\n",
    "        method = getattr(obj_2, name)\n",
    "        try:\n",
    "            if forge is True:\n",
    "                arg_dict = forge_args(method, sample_dict)\n",
    "            else:\n",
    "                arg_dict = {}\n",
    "            output_dict[name] = str(method(**arg_dict))\n",
    "        except ForgeError:\n",
    "            output_dict[name] = \"(Failed to forge args)\"\n",
    "        except Exception:\n",
    "            output_dict[name] = \"(Failed to run method with forged args)\"\n",
    "        # check for state changes\n",
    "        change_dict = state.compare(obj_2)\n",
    "        if change_dict:\n",
    "            output_dict[name] = {\n",
    "                'output': output_dict[name],\n",
    "                'state changes': change_dict,\n",
    "            }\n",
    "        # remove 'output' entry in `output_dict` if no output\n",
    "        if isinstance(output_dict[name], dict):\n",
    "            if output_dict[name]['output'] == 'None':\n",
    "                del output_dict[name]['output']\n",
    "    return output_dict"
   ]
  },
  {
   "cell_type": "markdown",
   "metadata": {},
   "source": [
    "Testing this on our rect:"
   ]
  },
  {
   "cell_type": "code",
   "execution_count": 94,
   "metadata": {},
   "outputs": [
    {
     "data": {
      "text/plain": [
       "{'area': '12.0',\n",
       " 'scale': {'state changes': {'modified': {'a': (3.0, 4.5), 'b': (4.0, 6.0)}}},\n",
       " 'take_half': {'output': \"Rectangle{'a': 1.5, 'b': 4.0}\",\n",
       "  'state changes': {'modified': {'a': (3.0, 1.5)}}}}"
      ]
     },
     "execution_count": 94,
     "metadata": {},
     "output_type": "execute_result"
    }
   ],
   "source": [
    ">>> call_all_tracked(rect)"
   ]
  },
  {
   "cell_type": "markdown",
   "metadata": {},
   "source": [
    "**Tracking State Modification: Metaclass Wrapper Technique**"
   ]
  },
  {
   "cell_type": "markdown",
   "metadata": {},
   "source": [
    "A more elegant way, however, would be to create a wrapper class for the object which automatically tracks any state changes. (may need to use metaclass to dynamically inherit all methods and attributes of parent, then just modify gettatr and setattr to log the state).\n",
    "\n",
    "Unfortunately, most python code is not type hinted, and much of it is unsupported by getargspec. In these cases, arguments forgery could also be attempted by brute force or extraction from docstrings, which are planned features for peep dis.\n",
    "\n",
    "Simply printing out docstrings might be an easier way to understand methods that require arguments in most cases. They can be systematically printed out from the `__doc__` attribute."
   ]
  },
  {
   "cell_type": "code",
   "execution_count": 31,
   "metadata": {},
   "outputs": [
    {
     "name": "stdout",
     "output_type": "stream",
     "text": [
      "a: No docstring\n",
      "area: No docstring\n",
      "b: No docstring\n",
      "scale: No docstring\n",
      "take_half: No docstring\n"
     ]
    }
   ],
   "source": [
    ">>> for x in dir_filtered:\n",
    ">>>     attr = getattr(getattr(rect, x), __doc__, \"No docstring\")\n",
    ">>>     print(f'{x}: {attr}')"
   ]
  },
  {
   "cell_type": "markdown",
   "metadata": {},
   "source": [
    "The output is too long to include here, and it's difficult to decipher since it isn't color coded. The output can easily be colorized with termcolor, which is what was used for peep dis."
   ]
  },
  {
   "cell_type": "markdown",
   "metadata": {},
   "source": [
    "**IDE Tools (PyCharm)**"
   ]
  },
  {
   "cell_type": "markdown",
   "metadata": {},
   "source": [
    "Most IDEs have tools to inspect objects while editing and debugging. PyCharm has some of the best object inspection and debugging tools, so I'll use it as an example for this tutorial"
   ]
  },
  {
   "cell_type": "markdown",
   "metadata": {},
   "source": [
    "**CLI Tool: peep dis**"
   ]
  },
  {
   "cell_type": "code",
   "execution_count": null,
   "metadata": {
    "collapsed": true
   },
   "outputs": [],
   "source": []
  }
 ],
 "metadata": {
  "kernelspec": {
   "display_name": "Python 3",
   "language": "python",
   "name": "python3"
  },
  "language_info": {
   "codemirror_mode": {
    "name": "ipython",
    "version": 3
   },
   "file_extension": ".py",
   "mimetype": "text/x-python",
   "name": "python",
   "nbconvert_exporter": "python",
   "pygments_lexer": "ipython3",
   "version": "3.6.1"
  }
 },
 "nbformat": 4,
 "nbformat_minor": 2
}
